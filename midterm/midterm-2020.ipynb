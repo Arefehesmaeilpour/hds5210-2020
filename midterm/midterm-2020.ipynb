{
 "cells": [
  {
   "cell_type": "markdown",
   "metadata": {},
   "source": [
    "# HDS5210-2020 Midterm\n",
    "\n",
    "In the midterm, you're going to focus on using the programming skills that you've developed so far to build a calculator for the Apache II scoring system for ICU Mortality.  \n",
    "* https://www.mdcalc.com/apache-ii-score#evidence\n",
    "* https://reference.medscape.com/calculator/apache-ii-scoring-system\n",
    "\n",
    "For the midterm, we'll be building a calculator for the Apache II score and then running that against a patient file that's available to you out on the internet.  This will be broken down into three main steps:\n",
    "1. Create your JSON file to encapsulate all of the calculation rules for Apache II\n",
    "2. Create functions to calculate the Apache II score using your JSON configuration\n",
    "3. Create a function to loop over the patients in a file on the internet and calculate Apach II scores for all of them\n",
    "\n"
   ]
  },
  {
   "cell_type": "markdown",
   "metadata": {},
   "source": [
    "---\n",
    "\n",
    "## Part 1: Creating a JSON Rules File\n",
    "\n",
    "Look at the rules for the Apache II scoring system on the pages above.  The first step in the midterm is to use those rules and create a JSON configuration file as described in the 2019 midterm video.  I've provided a starter file named `apache.json` to get you started.\n",
    "\n",
    "Inside that file, you'll find placeholders for all of the measures that go into the Apache II scoring model:\n",
    "* Organ Failure History\n",
    "* Age\n",
    "* Temperature\n",
    "* [pH](https://en.wikipedia.org/wiki/PH)\n",
    "* Heart rate\n",
    "* Respiratory rate\n",
    "* [Sodium](https://www.mayoclinic.org/diseases-conditions/hyponatremia/symptoms-causes/syc-20373711)\n",
    "* [Potassium](https://www.emedicinehealth.com/hyperkalemia/article_em.htm)\n",
    "* [Creatinine](https://www.medicalnewstoday.com/articles/322380)\n",
    "* [Hematocrit](https://labtestsonline.org/tests/hematocrit)\n",
    "* White Blood Count\n",
    "* [FiO2](https://www.ausmed.com/cpd/articles/oxygen-flow-rate-and-fio2)\n",
    "* [PaO2](https://www.verywellhealth.com/partial-pressure-of-oyxgen-pa02-914920)\n",
    "* [A-a gradient](https://www.ncbi.nlm.nih.gov/books/NBK545153/)\n",
    "\n",
    "\n",
    "You may need to create a sort of nested set of rules in some cases.  For instance, the rule for Creatinine says to use certain ranges and points in the case of Acute Renal Failure and a different set of points for Chronic Renal Failure.\n",
    "\n",
    "Similarly, the rule for FiO2 says to use PaO2 to calculate scores if the FiO2 is <50, and to use A-a Gradient if the PaO2 is >50.\n",
    "\n",
    "When you've created your `apache.json` file, make sure it's in the same directory as this notebook."
   ]
  },
  {
   "cell_type": "markdown",
   "metadata": {},
   "source": [
    "### Testing your JSON\n",
    "\n",
    "The assert() functions below should all run just fine.  If you want to change the names of any of the keys in the JSON I provided you, you may, but you'll also need to update this test code so that it doesn't fail.  Remember, your notebook should be able to run end-to-end before you submit it."
   ]
  },
  {
   "cell_type": "code",
   "execution_count": 1,
   "metadata": {},
   "outputs": [],
   "source": [
    "import json\n",
    "\n",
    "with open(\"apache_mine.json\") as f:\n",
    "    rules = json.load(f)\n",
    "assert('Organ Failure History' in rules.keys())\n",
    "assert('Age' in rules.keys())\n",
    "assert('Temperature' in rules.keys())\n",
    "assert('pH' in rules.keys())\n",
    "assert('Heart Rate' in rules.keys())\n",
    "assert('Respiratory Rate' in rules.keys())\n",
    "assert('Sodium' in rules.keys())\n",
    "assert('Potassium' in rules.keys())\n",
    "assert('Creatinine' in rules.keys())\n",
    "assert('Hematocrit' in rules.keys())\n",
    "assert('White Blood Count' in rules.keys())\n",
    "assert('FiO2' in rules.keys())"
   ]
  },
  {
   "cell_type": "code",
   "execution_count": 2,
   "metadata": {},
   "outputs": [
    {
     "data": {
      "text/plain": [
       "dict_keys(['Organ Failure History', 'Age', 'Temperature', 'pressure', 'Heart Rate', 'Respiratory Rate', 'FiO2', 'pH', 'Sodium', 'Potassium', 'Creatinine', 'Hematocrit', 'White Blood Count', 'Glasgow Coma Scale'])"
      ]
     },
     "execution_count": 2,
     "metadata": {},
     "output_type": "execute_result"
    }
   ],
   "source": [
    "rules.keys()"
   ]
  },
  {
   "cell_type": "markdown",
   "metadata": {},
   "source": [
    "---\n",
    "\n",
    "## Part 2: Functions to evaluate rules\n",
    "\n",
    "Write a series of functions, enough to satisfy all of the main criteria that we're using to calculate the Apache II score.  That list is the same as the assert statements above.\n",
    "\n",
    "* Each of your functions should be well documented.\n",
    "* Each function should have \"config_file\" as one of it's parameters.\n",
    "* Each function should return a numerical score value.\n",
    "* Similar to what we discussed in the review, if you can generalize some rules, do so.  You should **NOT** end up with one function for each input variable.  If you did that, you'd have a lot of repetative code.\n",
    "\n",
    "The Glasgow Coma Scale is simply a 1-to-1 score translation.  Simply add the Glasgow Coma Scale value.  So, you don't need to write a function for this. [Glasgow Coma Scale](https://www.cdc.gov/masstrauma/resources/gcs.pdf)\n",
    "\n",
    "**CORRECTION ADDED 2/29** - The Glasgow Coma Scale points should be calculated as `1 - Glasgow Coma Scale` rather than what I just stated above.  My preference would be that you do the calculation correctly, as per MDCalc, and then use the **corrected** scores files to compare against as noted in Part 4."
   ]
  },
  {
   "cell_type": "markdown",
   "metadata": {},
   "source": [
    "### Tesing Score for age, temperature, pressure, heart_rate, and respiratory_rate"
   ]
  },
  {
   "cell_type": "code",
   "execution_count": 73,
   "metadata": {},
   "outputs": [],
   "source": [
    "#Age function\n",
    "import json\n",
    "def age_score(age, config_file):\n",
    "    config = json.load(open(config_file))\n",
    "    age_scores = config.get(\"Age\")\n",
    "    for rule in age_scores:\n",
    "        if age >= rule.get('min') and age < rule.get('max'):\n",
    "            age_score = rule.get('points')\n",
    "    return (age_score)"
   ]
  },
  {
   "cell_type": "code",
   "execution_count": 126,
   "metadata": {},
   "outputs": [],
   "source": [
    "#Temperature function\n",
    "import json\n",
    "def temperature_score(temperature, config_file):\n",
    "    config = json.load(open(config_file))\n",
    "    temp_score = 0\n",
    "    temperature_scores = config.get(\"Temperature\")\n",
    "    for rule in temperature_scores:\n",
    "        if temperature >= rule.get('min') and temperature < rule.get('max'):\n",
    "            temp_score = rule.get('points')\n",
    "    return (temp_score)"
   ]
  },
  {
   "cell_type": "code",
   "execution_count": 127,
   "metadata": {},
   "outputs": [],
   "source": [
    "#Pressure function\n",
    "import json\n",
    "def pressure_score(pressure, config_file):\n",
    "    config = json.load(open(config_file))\n",
    "    pressure_scores = config.get(\"pressure\")\n",
    "    for rule in pressure_scores:\n",
    "        if pressure >= rule.get('min') and pressure < rule.get('max'):\n",
    "            pressure_score = rule.get('points')\n",
    "    return (pressure_score)"
   ]
  },
  {
   "cell_type": "code",
   "execution_count": 128,
   "metadata": {},
   "outputs": [],
   "source": [
    "#Heart Rate function\n",
    "import json\n",
    "def heartrate_score(heart_rate, config_file):\n",
    "    config = json.load(open(config_file))\n",
    "    Heart_Rate_scores = config.get(\"Heart Rate\")\n",
    "    for rule in Heart_Rate_scores:\n",
    "        if heart_rate >= rule.get('min') and heart_rate < rule.get('max'):\n",
    "            Heart_Rate_score = rule.get('points')\n",
    "    return (Heart_Rate_score)"
   ]
  },
  {
   "cell_type": "code",
   "execution_count": 129,
   "metadata": {},
   "outputs": [],
   "source": [
    "# Respiratory rate function\n",
    "import json\n",
    "def respiratoryrate_score(respiratory_rate, config_file):\n",
    "    config = json.load(open(config_file))\n",
    "    respiratory_rate_scores = config.get(\"Respiratory Rate\")\n",
    "    for rule in respiratory_rate_scores:\n",
    "        if respiratory_rate >= rule.get('min') and respiratory_rate < rule.get('max'):\n",
    "            respiratory_rate_score = rule.get('points')\n",
    "    return (respiratory_rate_score)"
   ]
  },
  {
   "cell_type": "markdown",
   "metadata": {},
   "source": [
    "### Organ Failure"
   ]
  },
  {
   "cell_type": "code",
   "execution_count": 130,
   "metadata": {},
   "outputs": [],
   "source": [
    "import json\n",
    "def of_score(parameter, config_file):\n",
    "    config = json.load(open(config_file))\n",
    "    of_score = config.get(\"Organ Failure History\")\n",
    "    return of_score.get(parameter)"
   ]
  },
  {
   "cell_type": "markdown",
   "metadata": {},
   "source": [
    "### FiO2_PaO2_A-a_gradient Score"
   ]
  },
  {
   "cell_type": "code",
   "execution_count": 131,
   "metadata": {},
   "outputs": [],
   "source": [
    "import json\n",
    "def FiO2_PaO2_gradient_score(fio2, pao2, a_gradient, config_file):\n",
    "    score = 0\n",
    "    config = json.load(open(config_file))\n",
    "    FiO2_PaO2_gradient_scores = config.get(\"FiO2\")\n",
    "    for rule in FiO2_PaO2_gradient_scores:\n",
    "        if fio2 >= rule.get('min') and fio2 < rule.get('max'):\n",
    "            if fio2>=0 and fio2 < 50:\n",
    "                pao2_rules = rule.get('PaO2')\n",
    "                for pao2_rule in pao2_rules:\n",
    "                    if pao2 >= pao2_rule.get('min') and pao2 < pao2_rule.get('max'):\n",
    "                        score = pao2_rule.get('points')\n",
    "            elif fio2 >= 50:\n",
    "                gradients_rules = rule.get('A-a gradient')\n",
    "                for gradients_rule in gradients_rules:\n",
    "                    if a_gradient >= gradients_rule.get('min') and a_gradient < gradients_rule.get('max'):\n",
    "                        score = gradients_rule.get('points')\n",
    "    return (score)"
   ]
  },
  {
   "cell_type": "markdown",
   "metadata": {},
   "source": [
    "### pH, Sodium, Potassium, Hematocrit, White_Blood_Count, and GCS Score"
   ]
  },
  {
   "cell_type": "code",
   "execution_count": 132,
   "metadata": {},
   "outputs": [],
   "source": [
    "#pH score\n",
    "def pH_score(ph, config_file):\n",
    "    config = json.load(open(config_file))\n",
    "    ph_scores = config.get(\"pH\")\n",
    "    for rule in ph_scores:\n",
    "        if ph >= rule.get('min') and ph < rule.get('max'):\n",
    "            score = rule.get('points')\n",
    "    return (score)"
   ]
  },
  {
   "cell_type": "code",
   "execution_count": 133,
   "metadata": {},
   "outputs": [],
   "source": [
    "#Sodium score\n",
    "def sodium_score(Sodium, config_file):\n",
    "    config = json.load(open(config_file))\n",
    "    Sodium_scores = config.get(\"Sodium\")\n",
    "    for rule in Sodium_scores:\n",
    "        if Sodium >= rule.get('min') and Sodium < rule.get('max'):\n",
    "            Sodium_score = rule.get('points')\n",
    "    return (Sodium_score)"
   ]
  },
  {
   "cell_type": "code",
   "execution_count": 134,
   "metadata": {},
   "outputs": [],
   "source": [
    "#Potassium score\n",
    "def potassium_score(Potassium, config_file):\n",
    "    config = json.load(open(config_file))\n",
    "    Potassium_scores = config.get(\"Potassium\")\n",
    "    for rule in Potassium_scores:\n",
    "        if Potassium >= rule.get('min') and Potassium < rule.get('max'):\n",
    "            Potassium_score = rule.get('points')\n",
    "    return (Potassium_score)"
   ]
  },
  {
   "cell_type": "code",
   "execution_count": 135,
   "metadata": {},
   "outputs": [],
   "source": [
    "#Hematocrit score\n",
    "def Hematocrit_score(Hematocrit, config_file):\n",
    "    config = json.load(open(config_file))\n",
    "    Hematocrit_scores = config.get(\"Hematocrit\")\n",
    "    for rule in Hematocrit_scores:\n",
    "        if Hematocrit >= rule.get('min') and Hematocrit < rule.get('max'):\n",
    "            Hematocrit_score = rule.get('points')\n",
    "    return (Hematocrit_score)"
   ]
  },
  {
   "cell_type": "code",
   "execution_count": 136,
   "metadata": {},
   "outputs": [],
   "source": [
    "#White blood count score\n",
    "def wbc_score(White_Blood_Count, config_file):\n",
    "    config = json.load(open(config_file))\n",
    "    White_Blood_Count_scores = config.get(\"White Blood Count\")\n",
    "    for rule in White_Blood_Count_scores:\n",
    "        if White_Blood_Count >= rule.get('min') and White_Blood_Count < rule.get('max'):\n",
    "            White_Blood_Count_score = rule.get('points')\n",
    "    return (White_Blood_Count_score)"
   ]
  },
  {
   "cell_type": "code",
   "execution_count": 137,
   "metadata": {},
   "outputs": [],
   "source": [
    "#Glasgow Coma Scale score\n",
    "def gcs_score(GCS, config_file):\n",
    "    config = json.load(open(config_file))\n",
    "    GSC_scores = config.get(\"Glasgow Coma Scale\")\n",
    "    return (GSC_scores.get(str(GCS)))    "
   ]
  },
  {
   "cell_type": "markdown",
   "metadata": {},
   "source": [
    "#### Creatinine Score"
   ]
  },
  {
   "cell_type": "code",
   "execution_count": 138,
   "metadata": {},
   "outputs": [],
   "source": [
    "import json\n",
    "def creatinine_score(creatinine, renal_failure, config_file):\n",
    "    score = 0\n",
    "    config = json.load(open(config_file))\n",
    "    creatinine_scores = config.get(\"Creatinine\")\n",
    "    for rule in creatinine_scores:\n",
    "        if creatinine >= rule.get('min') and creatinine < rule.get('max') and renal_failure == rule.get('Failure'):\n",
    "            creatinine_score = rule.get('points')\n",
    "            score = creatinine_score\n",
    "    return (score)"
   ]
  },
  {
   "cell_type": "markdown",
   "metadata": {},
   "source": [
    "## Testing"
   ]
  },
  {
   "cell_type": "code",
   "execution_count": 139,
   "metadata": {},
   "outputs": [],
   "source": [
    "# Put the name of your configuration file below\n",
    "EF_CONFIG_FILE = \"apache_mine.json\""
   ]
  },
  {
   "cell_type": "code",
   "execution_count": 140,
   "metadata": {},
   "outputs": [],
   "source": [
    "assert(of_score(\"Nonoperative\",  EF_CONFIG_FILE)==5)\n",
    "assert(of_score(\"Emergency\",  EF_CONFIG_FILE)==5)\n",
    "assert(of_score(\"Elective\",  EF_CONFIG_FILE)==2)"
   ]
  },
  {
   "cell_type": "code",
   "execution_count": 141,
   "metadata": {},
   "outputs": [],
   "source": [
    "assert(age_score(50, EF_CONFIG_FILE)==2)\n",
    "assert(age_score(66, EF_CONFIG_FILE)==5)\n",
    "assert(age_score(80, EF_CONFIG_FILE)==6)"
   ]
  },
  {
   "cell_type": "code",
   "execution_count": 142,
   "metadata": {},
   "outputs": [],
   "source": [
    "assert(temperature_score(40, EF_CONFIG_FILE)==3)\n",
    "assert(temperature_score(33, EF_CONFIG_FILE)==2)\n",
    "assert(temperature_score(25, EF_CONFIG_FILE)==4)"
   ]
  },
  {
   "cell_type": "code",
   "execution_count": 143,
   "metadata": {},
   "outputs": [],
   "source": [
    "assert(pressure_score(70, EF_CONFIG_FILE)==0)\n",
    "assert(pressure_score(30, EF_CONFIG_FILE)==4)\n",
    "assert(pressure_score(130, EF_CONFIG_FILE)==3)"
   ]
  },
  {
   "cell_type": "code",
   "execution_count": 144,
   "metadata": {},
   "outputs": [],
   "source": [
    "assert(heartrate_score(200, EF_CONFIG_FILE)==4)\n",
    "assert(heartrate_score(100, EF_CONFIG_FILE)==0)\n",
    "assert(heartrate_score(60, EF_CONFIG_FILE)==2)"
   ]
  },
  {
   "cell_type": "code",
   "execution_count": 145,
   "metadata": {},
   "outputs": [],
   "source": [
    "assert(respiratoryrate_score(60, EF_CONFIG_FILE)==4)\n",
    "assert(respiratoryrate_score(11, EF_CONFIG_FILE)==1)\n",
    "assert(respiratoryrate_score(5, EF_CONFIG_FILE)==4)"
   ]
  },
  {
   "cell_type": "code",
   "execution_count": 146,
   "metadata": {},
   "outputs": [],
   "source": [
    "assert(FiO2_PaO2_gradient_score(20, 20,50, EF_CONFIG_FILE)==4)\n",
    "assert(FiO2_PaO2_gradient_score(65, 20,100, EF_CONFIG_FILE)==0)\n",
    "assert(FiO2_PaO2_gradient_score(90, 20,550, EF_CONFIG_FILE)==4)"
   ]
  },
  {
   "cell_type": "code",
   "execution_count": 147,
   "metadata": {},
   "outputs": [],
   "source": [
    "assert(pH_score(7.5, EF_CONFIG_FILE)==1)\n",
    "assert(pH_score(6, EF_CONFIG_FILE)==4)\n",
    "assert(pH_score(8, EF_CONFIG_FILE)==4)"
   ]
  },
  {
   "cell_type": "code",
   "execution_count": 148,
   "metadata": {},
   "outputs": [],
   "source": [
    "assert(sodium_score(200, EF_CONFIG_FILE)==4)\n",
    "assert(sodium_score(140, EF_CONFIG_FILE)==0)\n",
    "assert(sodium_score(100, EF_CONFIG_FILE)==4)"
   ]
  },
  {
   "cell_type": "code",
   "execution_count": 149,
   "metadata": {},
   "outputs": [],
   "source": [
    "assert(potassium_score(8, EF_CONFIG_FILE)==4)\n",
    "assert(potassium_score(3, EF_CONFIG_FILE)==1)\n",
    "assert(potassium_score(3.5, EF_CONFIG_FILE)==0)"
   ]
  },
  {
   "cell_type": "code",
   "execution_count": 150,
   "metadata": {},
   "outputs": [],
   "source": [
    "assert(Hematocrit_score(60, EF_CONFIG_FILE)==4)\n",
    "assert(Hematocrit_score(40, EF_CONFIG_FILE)==0)\n",
    "assert(Hematocrit_score(10, EF_CONFIG_FILE)==4)"
   ]
  },
  {
   "cell_type": "code",
   "execution_count": 151,
   "metadata": {},
   "outputs": [],
   "source": [
    "assert(wbc_score(50, EF_CONFIG_FILE)==4)\n",
    "assert(wbc_score(7, EF_CONFIG_FILE)==0)\n",
    "assert(wbc_score(2, EF_CONFIG_FILE)==2)"
   ]
  },
  {
   "cell_type": "code",
   "execution_count": 152,
   "metadata": {},
   "outputs": [],
   "source": [
    "assert(gcs_score(15, EF_CONFIG_FILE)==0)\n",
    "assert(gcs_score(12, EF_CONFIG_FILE)==3)\n",
    "assert(gcs_score(1, EF_CONFIG_FILE)==14)"
   ]
  },
  {
   "cell_type": "code",
   "execution_count": 153,
   "metadata": {},
   "outputs": [],
   "source": [
    "assert(creatinine_score(2, \"Acute Renal Failure\", EF_CONFIG_FILE)==6)\n",
    "assert(creatinine_score(3.5, \"Acute Renal Failure\", EF_CONFIG_FILE)==8)\n",
    "assert(creatinine_score(2, \"Chronic Renal Failure\", EF_CONFIG_FILE)==3)"
   ]
  },
  {
   "cell_type": "markdown",
   "metadata": {},
   "source": [
    "---\n",
    "\n",
    "## Part 3: Put it all together\n",
    "\n",
    "Create a new function called `apache_score()` that takes all of the necessary inputs and returns the final Apache II score.  Use any variable names that you want.  For clarity and organization, my recommendation is to create them in the same order as they're documented in the website.\n",
    "\n",
    "1. Organ Failure History\n",
    "2. Age\n",
    "3. Temperature\n",
    "4. pH \n",
    "5. Heart rate\n",
    "6. Respiratory rate\n",
    "7. Sodium\n",
    "8. Potassium\n",
    "9. Creatinine\n",
    "10. Acute renal failure\n",
    "11. Hematocrit\n",
    "12. White Blood Count\n",
    "13. Glasgow Coma Scale\n",
    "14. FiO2\n",
    "15. PaO2\n",
    "16. A-a gradient\n"
   ]
  },
  {
   "cell_type": "code",
   "execution_count": 177,
   "metadata": {},
   "outputs": [],
   "source": [
    "def apache_score(organ_failure, age, temperature, pressure, pH, heart_rate, respiratory_rate, Sodium, Potassium,creatinine,\n",
    "                 renal_failure, Hematocrit, White_Blood_Count, GCS, fio2, a_gradient, pao2):\n",
    "    score = 0\n",
    "    EF_CONFIG_FILE = \"apache_mine.json\"\n",
    "    score += of_score(organ_failure,EF_CONFIG_FILE)\n",
    "    score += age_score(age,EF_CONFIG_FILE)\n",
    "    score += temperature_score(temperature,EF_CONFIG_FILE)\n",
    "    score += pressure_score(pressure,EF_CONFIG_FILE)\n",
    "    score += pH_score(pH,EF_CONFIG_FILE)\n",
    "    score += heartrate_score(heart_rate,EF_CONFIG_FILE)\n",
    "    score += respiratoryrate_score(respiratory_rate,EF_CONFIG_FILE)\n",
    "    score += sodium_score(Sodium,EF_CONFIG_FILE)\n",
    "    score += potassium_score(Potassium,EF_CONFIG_FILE)\n",
    "    score += creatinine_score(creatinine,renal_failure,EF_CONFIG_FILE)\n",
    "    score += Hematocrit_score(Hematocrit,EF_CONFIG_FILE)\n",
    "    score += wbc_score(White_Blood_Count,EF_CONFIG_FILE)\n",
    "    score += gcs_score(GCS,EF_CONFIG_FILE)\n",
    "    score += FiO2_PaO2_gradient_score(fio2, pao2, a_gradient, EF_CONFIG_FILE)\n",
    "    return (score)    "
   ]
  },
  {
   "cell_type": "markdown",
   "metadata": {},
   "source": [
    "### Testing your Function\n",
    "\n",
    "Write a few test cases to make sure that your code functions correctly.  In the last step, you'll have LOTS of test cases run through, but you should do some of your before moving on."
   ]
  },
  {
   "cell_type": "code",
   "execution_count": 178,
   "metadata": {},
   "outputs": [],
   "source": [
    "assert(apache_score(\"Elective\", 65, 100, 100, 7.4, 60, 50, 140, 4, 1.1, \"Acute Renal Failure\", 40, 4, 5, 33, 100, 40)==27)\n",
    "assert(apache_score(\"Nonoperative\", 65, 100, 100, 7.4, 60, 50, 140, 4, 1.1, \"Acute Renal Failure\", 40, 15, 5, 33, 100, 40)==31)\n",
    "assert(apache_score(\"Emergency\", 65, 107, 100, 7.4, 110, 50, 140, 4, 1.1, \"Acute Renal Failure\", 50, 15, 5, 33, 100, 40)==33)"
   ]
  },
  {
   "cell_type": "markdown",
   "metadata": {},
   "source": [
    "---\n",
    "\n",
    "## Part 4: Accessing and processing the patient file\n",
    "\n",
    "Fill out the simple function below to retrieve the patient data as a CSV file from any given URL and return a list of all of the Apache II scores based on the data you find for those patients.\n",
    "* The patient file will be a CSV\n",
    "* It will have column headers that match the labels shown above\n",
    "* The columns will not necessarily appear in the order shown above\n",
    "* You should output only the Apache II scores, not any other information\n",
    "* Your output should be a list in the same order as the input rows"
   ]
  },
  {
   "cell_type": "code",
   "execution_count": 183,
   "metadata": {},
   "outputs": [],
   "source": [
    "#Pressure is missing here in this file. Therefore I created another function without having the pressure.\n",
    "def apache_score_2(organ_failure, age, temperature, pH, heart_rate, respiratory_rate, Sodium, Potassium,creatinine,\n",
    "                 renal_failure, Hematocrit, White_Blood_Count, GCS, fio2, a_gradient, pao2):\n",
    "    score = 0\n",
    "    EF_CONFIG_FILE = \"apache_mine.json\"\n",
    "    score += of_score(organ_failure,EF_CONFIG_FILE)\n",
    "    score += age_score(age,EF_CONFIG_FILE)\n",
    "    score += temperature_score(temperature,EF_CONFIG_FILE)\n",
    "    score += pH_score(pH,EF_CONFIG_FILE)\n",
    "    score += heartrate_score(heart_rate,EF_CONFIG_FILE)\n",
    "    score += respiratoryrate_score(respiratory_rate,EF_CONFIG_FILE)\n",
    "    score += sodium_score(Sodium,EF_CONFIG_FILE)\n",
    "    score += potassium_score(Potassium,EF_CONFIG_FILE)\n",
    "    score += creatinine_score(creatinine,renal_failure,EF_CONFIG_FILE)\n",
    "    score += Hematocrit_score(Hematocrit,EF_CONFIG_FILE)\n",
    "    score += wbc_score(White_Blood_Count,EF_CONFIG_FILE)\n",
    "    score += gcs_score(GCS,EF_CONFIG_FILE)\n",
    "    score += FiO2_PaO2_gradient_score(fio2, pao2, a_gradient, EF_CONFIG_FILE)\n",
    "    return (score)  "
   ]
  },
  {
   "cell_type": "code",
   "execution_count": 185,
   "metadata": {},
   "outputs": [
    {
     "name": "stdout",
     "output_type": "stream",
     "text": [
      "E3408 Score: 32\n",
      "E1100 Score: 28\n",
      "E8001 Score: 43\n",
      "E4369 Score: 33\n",
      "E5772 Score: 41\n",
      "E1743 Score: 32\n",
      "E3011 Score: 30\n",
      "E3820 Score: 49\n",
      "E2640 Score: 39\n",
      "E3083 Score: 48\n",
      "E2319 Score: 40\n",
      "E7093 Score: 42\n",
      "E1004 Score: 31\n",
      "E5146 Score: 38\n",
      "E8495 Score: 40\n",
      "E3466 Score: 47\n",
      "E8028 Score: 35\n",
      "E7273 Score: 37\n",
      "E5903 Score: 34\n",
      "E8693 Score: 41\n",
      "E8540 Score: 37\n",
      "E3233 Score: 29\n",
      "E5359 Score: 37\n",
      "E3431 Score: 28\n",
      "E7376 Score: 40\n",
      "E1444 Score: 38\n",
      "E2803 Score: 34\n",
      "E7258 Score: 42\n",
      "E2590 Score: 39\n",
      "E8414 Score: 44\n",
      "E5218 Score: 34\n",
      "E6356 Score: 40\n",
      "E5713 Score: 39\n",
      "E7611 Score: 44\n",
      "E1553 Score: 40\n",
      "E9992 Score: 37\n",
      "E9643 Score: 36\n",
      "E7887 Score: 36\n",
      "E5641 Score: 38\n",
      "E1926 Score: 30\n",
      "E5215 Score: 45\n",
      "E9252 Score: 29\n",
      "E9873 Score: 40\n",
      "E9019 Score: 41\n",
      "E8522 Score: 34\n",
      "E5265 Score: 35\n",
      "E6794 Score: 37\n",
      "E6137 Score: 37\n",
      "E1249 Score: 27\n",
      "E3756 Score: 46\n",
      "E2902 Score: 49\n",
      "E3226 Score: 39\n",
      "E5599 Score: 45\n",
      "E5487 Score: 33\n",
      "E8741 Score: 33\n",
      "E5757 Score: 42\n",
      "E9219 Score: 41\n",
      "E5809 Score: 28\n",
      "E8528 Score: 44\n",
      "E9437 Score: 43\n",
      "E9312 Score: 33\n",
      "E8508 Score: 35\n",
      "E1458 Score: 33\n",
      "E1213 Score: 36\n",
      "E4600 Score: 26\n",
      "E7705 Score: 26\n",
      "E4579 Score: 43\n",
      "E3464 Score: 24\n",
      "E4203 Score: 36\n",
      "E2329 Score: 34\n",
      "E5441 Score: 39\n",
      "E1236 Score: 30\n",
      "E8175 Score: 39\n",
      "E3945 Score: 50\n",
      "E6254 Score: 41\n",
      "E6611 Score: 45\n",
      "E4125 Score: 35\n",
      "E5997 Score: 33\n",
      "E5121 Score: 35\n",
      "E2021 Score: 49\n",
      "E2801 Score: 30\n",
      "E5813 Score: 33\n",
      "E4136 Score: 43\n",
      "E7380 Score: 38\n",
      "E7179 Score: 24\n",
      "E8013 Score: 46\n",
      "E1237 Score: 25\n",
      "E9518 Score: 39\n",
      "E9893 Score: 34\n",
      "E6520 Score: 47\n",
      "E1396 Score: 29\n",
      "E7343 Score: 34\n",
      "E2596 Score: 31\n",
      "E3504 Score: 43\n",
      "E6997 Score: 31\n",
      "E5438 Score: 37\n",
      "E2662 Score: 36\n",
      "E6390 Score: 37\n",
      "E3115 Score: 44\n",
      "E4443 Score: 27\n",
      "E2423 Score: 31\n",
      "E3605 Score: 47\n",
      "E8673 Score: 27\n",
      "E9911 Score: 34\n",
      "E9254 Score: 31\n",
      "E8200 Score: 44\n",
      "E5227 Score: 40\n",
      "E2960 Score: 35\n",
      "E4767 Score: 39\n",
      "E4896 Score: 31\n",
      "E7504 Score: 41\n",
      "E9222 Score: 34\n",
      "E6832 Score: 42\n",
      "E3331 Score: 46\n",
      "E7398 Score: 21\n",
      "E4098 Score: 31\n",
      "E1851 Score: 29\n",
      "E7759 Score: 38\n",
      "E6077 Score: 38\n",
      "E3939 Score: 30\n",
      "E4591 Score: 37\n",
      "E2339 Score: 37\n",
      "E2438 Score: 38\n",
      "E5921 Score: 31\n",
      "E4598 Score: 28\n",
      "E7890 Score: 41\n",
      "E5228 Score: 21\n",
      "E1332 Score: 39\n",
      "E5323 Score: 33\n",
      "E3180 Score: 39\n",
      "E2335 Score: 40\n",
      "E2757 Score: 30\n",
      "E4384 Score: 35\n",
      "E6992 Score: 31\n",
      "E4070 Score: 27\n",
      "E4278 Score: 40\n",
      "E6755 Score: 50\n",
      "E7070 Score: 37\n",
      "E8271 Score: 52\n",
      "E4996 Score: 37\n",
      "E5142 Score: 37\n",
      "E9928 Score: 44\n",
      "E3627 Score: 27\n",
      "E2608 Score: 38\n",
      "E5185 Score: 45\n",
      "E1300 Score: 42\n",
      "E3712 Score: 35\n",
      "E8488 Score: 29\n",
      "E4461 Score: 32\n",
      "E5453 Score: 40\n",
      "E5490 Score: 33\n",
      "E7697 Score: 31\n",
      "E1769 Score: 28\n",
      "E8026 Score: 26\n",
      "E7355 Score: 34\n",
      "E8707 Score: 43\n",
      "E4207 Score: 32\n",
      "E5309 Score: 47\n",
      "E9435 Score: 31\n",
      "E9412 Score: 37\n",
      "E8857 Score: 36\n",
      "E5903 Score: 31\n",
      "E6978 Score: 32\n",
      "E9423 Score: 39\n",
      "E7785 Score: 46\n",
      "E8934 Score: 55\n",
      "E9204 Score: 49\n",
      "E5765 Score: 35\n",
      "E2817 Score: 49\n",
      "E5429 Score: 28\n",
      "E3119 Score: 32\n",
      "E4296 Score: 42\n",
      "E5292 Score: 32\n",
      "E3374 Score: 30\n",
      "E6030 Score: 31\n",
      "E5750 Score: 31\n",
      "E8137 Score: 41\n",
      "E6880 Score: 30\n",
      "E7131 Score: 37\n",
      "E2374 Score: 34\n",
      "E2278 Score: 36\n",
      "E3662 Score: 36\n",
      "E6721 Score: 36\n",
      "E9538 Score: 33\n",
      "E7525 Score: 26\n",
      "E3156 Score: 33\n",
      "E4994 Score: 39\n",
      "E2079 Score: 28\n",
      "E8160 Score: 28\n",
      "E1823 Score: 37\n",
      "E9997 Score: 32\n",
      "E5017 Score: 43\n",
      "E2784 Score: 28\n",
      "E4259 Score: 37\n",
      "E4809 Score: 31\n",
      "E3989 Score: 34\n",
      "E1414 Score: 37\n",
      "E9599 Score: 47\n",
      "E4593 Score: 42\n",
      "E4232 Score: 28\n",
      "E7708 Score: 44\n",
      "E5434 Score: 32\n",
      "E9561 Score: 29\n",
      "E3263 Score: 36\n",
      "E8789 Score: 25\n",
      "E2943 Score: 38\n",
      "E6783 Score: 31\n",
      "E6851 Score: 45\n",
      "E2865 Score: 36\n",
      "E3841 Score: 38\n",
      "E1729 Score: 39\n",
      "E2348 Score: 28\n",
      "E2788 Score: 34\n",
      "E4109 Score: 39\n",
      "E5642 Score: 33\n",
      "E3057 Score: 37\n",
      "E6277 Score: 27\n",
      "E2132 Score: 20\n",
      "E2596 Score: 35\n",
      "E1335 Score: 39\n",
      "E9822 Score: 34\n",
      "E1559 Score: 34\n",
      "E6005 Score: 36\n",
      "E9972 Score: 46\n",
      "E7151 Score: 25\n",
      "E3708 Score: 25\n",
      "E1977 Score: 49\n",
      "E2315 Score: 53\n",
      "E3653 Score: 33\n",
      "E5150 Score: 43\n",
      "E4994 Score: 35\n",
      "E5700 Score: 48\n",
      "E8865 Score: 40\n",
      "E3585 Score: 35\n",
      "E6047 Score: 36\n",
      "E8769 Score: 34\n",
      "E6310 Score: 39\n",
      "E3861 Score: 35\n",
      "E2004 Score: 37\n",
      "E3116 Score: 28\n",
      "E8411 Score: 36\n",
      "E3130 Score: 36\n",
      "E7404 Score: 35\n",
      "E4618 Score: 42\n",
      "E5761 Score: 27\n",
      "E4051 Score: 29\n",
      "E5472 Score: 36\n",
      "E5311 Score: 27\n",
      "E7719 Score: 25\n",
      "E8666 Score: 24\n",
      "E1472 Score: 48\n",
      "E9922 Score: 33\n",
      "E5628 Score: 24\n",
      "E3084 Score: 27\n",
      "E2834 Score: 27\n",
      "E4088 Score: 31\n",
      "E4873 Score: 42\n",
      "E3661 Score: 41\n",
      "E2939 Score: 39\n",
      "E9178 Score: 30\n",
      "E5489 Score: 42\n",
      "E9155 Score: 49\n",
      "E9653 Score: 44\n",
      "E1080 Score: 27\n",
      "E9353 Score: 31\n",
      "E2893 Score: 29\n",
      "E8488 Score: 31\n",
      "E5823 Score: 28\n",
      "E8809 Score: 31\n",
      "E8599 Score: 31\n",
      "E1648 Score: 27\n",
      "E1646 Score: 50\n",
      "E1161 Score: 37\n",
      "E1477 Score: 35\n",
      "E4741 Score: 52\n",
      "E7258 Score: 38\n",
      "E8266 Score: 22\n",
      "E1217 Score: 33\n",
      "E8655 Score: 18\n",
      "E8049 Score: 20\n",
      "E4385 Score: 27\n",
      "E1690 Score: 23\n",
      "E4933 Score: 33\n",
      "E1284 Score: 54\n",
      "E9868 Score: 30\n",
      "E4451 Score: 43\n",
      "E9244 Score: 42\n",
      "E4380 Score: 47\n",
      "E7045 Score: 31\n",
      "E2301 Score: 42\n",
      "E2202 Score: 43\n",
      "E5345 Score: 27\n",
      "E4162 Score: 27\n",
      "E9784 Score: 38\n",
      "E7339 Score: 44\n",
      "E1277 Score: 36\n",
      "E7182 Score: 41\n",
      "E8608 Score: 30\n",
      "E7107 Score: 43\n",
      "E1226 Score: 33\n",
      "E2135 Score: 35\n",
      "E3021 Score: 45\n",
      "E4785 Score: 43\n",
      "E8965 Score: 42\n",
      "E4682 Score: 44\n",
      "E3560 Score: 45\n",
      "E4633 Score: 41\n",
      "E1132 Score: 43\n",
      "E8186 Score: 33\n",
      "E6171 Score: 59\n",
      "E7708 Score: 46\n",
      "E4395 Score: 35\n",
      "E6342 Score: 35\n",
      "E3061 Score: 25\n",
      "E3525 Score: 40\n",
      "E6662 Score: 36\n",
      "E3248 Score: 28\n",
      "E6786 Score: 35\n",
      "E6392 Score: 52\n",
      "E2245 Score: 32\n",
      "E9416 Score: 37\n",
      "E3979 Score: 21\n",
      "E4077 Score: 33\n",
      "E5696 Score: 43\n",
      "E1927 Score: 31\n",
      "E3291 Score: 17\n",
      "E2493 Score: 30\n",
      "E6699 Score: 30\n",
      "E1921 Score: 48\n",
      "E1297 Score: 42\n",
      "E7778 Score: 42\n",
      "E3688 Score: 42\n",
      "E9557 Score: 41\n",
      "E3632 Score: 45\n"
     ]
    }
   ],
   "source": [
    "#Pressure is missing here in this file. Therefore I created another function without having the pressure.\n",
    "import pandas as pd\n",
    "data=pd.read_csv('https://hds5210-2020.s3.amazonaws.com/TestPatients.csv')\n",
    "for i,row in data.iterrows():\n",
    "    of = row['Organ Failure History']\n",
    "    age = row['Age']\n",
    "    temp = row['Temperature']\n",
    "    ph = row['pH']\n",
    "    hrate = row['Heart Rate']\n",
    "    rrate = row['Respiratory Rate']\n",
    "    sodium = row['Sodium']\n",
    "    potassium = row['Potassium']\n",
    "    creatinine = row['Creatinine']\n",
    "    rf = row['Acute Renal Failure']\n",
    "    hematocrit = row['Hematocrit']\n",
    "    wbc = row['White Blood Count']\n",
    "    gcs = row['Glasgow Coma Scale']\n",
    "    fio2 = row['FiO2']\n",
    "    pao2 = row['PaO2']\n",
    "    a_gradient = row['A-a Gradient']\n",
    "    score = apache_score_2(of, age, temp, ph,hrate,rrate,sodium, potassium,creatinine,rf,hematocrit,wbc, gcs, fio2, pao2,a_gradient)\n",
    "    \n",
    "    print (row['Patient']+\" \"+ \"Score: \"+ str(score))"
   ]
  },
  {
   "cell_type": "markdown",
   "metadata": {},
   "source": [
    "### Testing your Function\n",
    "\n",
    "The URL for the test data is: https://hds5210-2020.s3.amazonaws.com/TestPatients.csv\n",
    "\n",
    "\n",
    "You can verify your results by comparing them against this data: https://hds5210-2020.s3.amazonaws.com/Scores.csv\n",
    "\n",
    "**CORRECTION ADDED 3/29** - If you calculated the Glasgow Coma Scale points as per the actual instructions in MDCalc, then please use this set of corrected scores to compare your results with: https://hds5210-2020.s3.amazonaws.com/Scores_corrected.csv\n"
   ]
  },
  {
   "cell_type": "code",
   "execution_count": null,
   "metadata": {},
   "outputs": [],
   "source": []
  },
  {
   "cell_type": "code",
   "execution_count": null,
   "metadata": {},
   "outputs": [],
   "source": []
  }
 ],
 "metadata": {
  "kernelspec": {
   "display_name": "Python 3",
   "language": "python",
   "name": "python3"
  },
  "language_info": {
   "codemirror_mode": {
    "name": "ipython",
    "version": 3
   },
   "file_extension": ".py",
   "mimetype": "text/x-python",
   "name": "python",
   "nbconvert_exporter": "python",
   "pygments_lexer": "ipython3",
   "version": "3.6.7"
  }
 },
 "nbformat": 4,
 "nbformat_minor": 4
}
