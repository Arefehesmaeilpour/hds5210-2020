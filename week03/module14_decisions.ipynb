{
 "cells": [
  {
   "cell_type": "markdown",
   "metadata": {},
   "source": [
    "# Module 14 - Decisions\n",
    "\n",
    "In the past few modules, we've learned about looping through things and about how to make decisions and take different paths forward depending on what the data is telling us.  Let's practice that a bit."
   ]
  },
  {
   "cell_type": "markdown",
   "metadata": {},
   "source": [
    "The website **MDCalc** has information about a lot of clinically validated risk scoring models.  These aren't advanced predictive models that use machine learning or artificial intelligence to suggest the likelihood of a particular outcome, but they are still current best practice in medical treatment planning.\n",
    "\n",
    "For this exercise in class, we're going to look at a HOSPITAL readmission risk calculator: https://www.mdcalc.com/hospital-score-readmissions#evidence\n",
    "\n",
    "How would we write a function to calculate this risk score, given the input parameters:\n",
    "* hemoglobin - \n",
    "* oncology - \n",
    "* sodium_level - \n",
    "* coded_procedure - \n",
    "* admission_type - \n",
    "* previous_admissions - \n",
    "* length_of_stay -"
   ]
  },
  {
   "cell_type": "markdown",
   "metadata": {},
   "source": [
    "```\n",
    "Variable                                                Points\n",
    "Hemoglobin level at discharge, g/dL      ≥12            0\n",
    "Hemoglobin level at discharge, g/dL      <12            1\n",
    "\n",
    "Discharged from oncology service         No             0\n",
    "Discharged from oncology service         Yes            2\n",
    "\n",
    "Sodium level at discharge, mEq/L         ≥135           0\n",
    "Sodium level at discharge, mEq/L         <135           1\n",
    "\n",
    "Any ICD-9 coded procedure performed      No             0\n",
    "Any ICD-9 coded procedure performed      Yes            1\n",
    "\n",
    "Index admission type                     Elective       0\n",
    "Index admission type                     Urgent         1\n",
    "\n",
    "Number of admissions previous year       0-1            0\n",
    "Number of admissions previous year       2-5            2\n",
    "Number of admissions previous year       >5             5\n",
    "\n",
    "Length of stay                           <5 days        0\n",
    "Length of stay                           ≥5 days        2\n",
    "```"
   ]
  },
  {
   "cell_type": "code",
   "execution_count": null,
   "metadata": {},
   "outputs": [],
   "source": []
  }
 ],
 "metadata": {
  "kernelspec": {
   "display_name": "Python 3",
   "language": "python",
   "name": "python3"
  },
  "language_info": {
   "codemirror_mode": {
    "name": "ipython",
    "version": 3
   },
   "file_extension": ".py",
   "mimetype": "text/x-python",
   "name": "python",
   "nbconvert_exporter": "python",
   "pygments_lexer": "ipython3",
   "version": "3.6.7"
  }
 },
 "nbformat": 4,
 "nbformat_minor": 4
}
